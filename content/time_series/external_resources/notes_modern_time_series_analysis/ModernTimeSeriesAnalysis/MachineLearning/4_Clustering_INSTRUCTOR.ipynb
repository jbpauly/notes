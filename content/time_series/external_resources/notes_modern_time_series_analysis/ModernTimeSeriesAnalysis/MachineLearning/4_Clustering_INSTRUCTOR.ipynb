{
 "cells": [
  {
   "cell_type": "markdown",
   "metadata": {},
   "source": [
    "## Clustering time series for classification"
   ]
  },
  {
   "cell_type": "code",
   "execution_count": 1,
   "metadata": {},
   "outputs": [],
   "source": [
    "%matplotlib inline\n",
    "import matplotlib.pyplot as plt\n",
    "plt.rcParams['figure.figsize'] = [15, 10]\n",
    "\n",
    "from math import sqrt\n",
    "\n",
    "from datetime import datetime\n",
    "import pandas as pd\n",
    "import numpy as np\n",
    "import pdb\n",
    "\n",
    "\n",
    "from scipy.cluster.hierarchy import dendrogram, linkage\n",
    "from scipy.spatial.distance import squareform\n",
    "\n",
    "from sklearn.metrics.pairwise import pairwise_distances\n",
    "from sklearn import preprocessing\n",
    "from sklearn.cluster import AgglomerativeClustering\n",
    "from sklearn.metrics.cluster import homogeneity_score, completeness_score\n",
    "from sklearn.metrics.cluster import contingency_matrix\n",
    "from sklearn.metrics.cluster import homogeneity_score\n",
    "\n",
    "from dtaidistance import dtw\n",
    "\n",
    "from collections import Counter\n",
    "\n",
    "from scipy.stats import pearsonr"
   ]
  },
  {
   "cell_type": "markdown",
   "metadata": {},
   "source": [
    "## The data"
   ]
  },
  {
   "cell_type": "code",
   "execution_count": 2,
   "metadata": {},
   "outputs": [],
   "source": [
    "words = pd.read_csv('https://raw.githubusercontent.com/AileenNielsen/TimeSeriesAnalysisWithPython/master/data/50words_TEST.csv',\n",
    "                   header = None)"
   ]
  },
  {
   "cell_type": "code",
   "execution_count": 3,
   "metadata": {},
   "outputs": [],
   "source": [
    "words.rename(columns = {0:'word'}, inplace = True) "
   ]
  },
  {
   "cell_type": "code",
   "execution_count": 4,
   "metadata": {},
   "outputs": [
    {
     "data": {
      "text/html": [
       "<div>\n",
       "<style scoped>\n",
       "    .dataframe tbody tr th:only-of-type {\n",
       "        vertical-align: middle;\n",
       "    }\n",
       "\n",
       "    .dataframe tbody tr th {\n",
       "        vertical-align: top;\n",
       "    }\n",
       "\n",
       "    .dataframe thead th {\n",
       "        text-align: right;\n",
       "    }\n",
       "</style>\n",
       "<table border=\"1\" class=\"dataframe\">\n",
       "  <thead>\n",
       "    <tr style=\"text-align: right;\">\n",
       "      <th></th>\n",
       "      <th>word</th>\n",
       "      <th>1</th>\n",
       "      <th>2</th>\n",
       "      <th>3</th>\n",
       "      <th>4</th>\n",
       "      <th>5</th>\n",
       "      <th>6</th>\n",
       "      <th>7</th>\n",
       "      <th>8</th>\n",
       "      <th>9</th>\n",
       "      <th>...</th>\n",
       "      <th>261</th>\n",
       "      <th>262</th>\n",
       "      <th>263</th>\n",
       "      <th>264</th>\n",
       "      <th>265</th>\n",
       "      <th>266</th>\n",
       "      <th>267</th>\n",
       "      <th>268</th>\n",
       "      <th>269</th>\n",
       "      <th>270</th>\n",
       "    </tr>\n",
       "  </thead>\n",
       "  <tbody>\n",
       "    <tr>\n",
       "      <th>0</th>\n",
       "      <td>4</td>\n",
       "      <td>-0.89094</td>\n",
       "      <td>-0.86099</td>\n",
       "      <td>-0.82438</td>\n",
       "      <td>-0.78214</td>\n",
       "      <td>-0.73573</td>\n",
       "      <td>-0.68691</td>\n",
       "      <td>-0.63754</td>\n",
       "      <td>-0.589370</td>\n",
       "      <td>-0.543420</td>\n",
       "      <td>...</td>\n",
       "      <td>-0.86309</td>\n",
       "      <td>-0.86791</td>\n",
       "      <td>-0.87271</td>\n",
       "      <td>-0.87846</td>\n",
       "      <td>-0.88592</td>\n",
       "      <td>-0.89619</td>\n",
       "      <td>-0.90783</td>\n",
       "      <td>-0.91942</td>\n",
       "      <td>-0.93018</td>\n",
       "      <td>-0.93939</td>\n",
       "    </tr>\n",
       "    <tr>\n",
       "      <th>1</th>\n",
       "      <td>12</td>\n",
       "      <td>-0.78346</td>\n",
       "      <td>-0.68562</td>\n",
       "      <td>-0.58409</td>\n",
       "      <td>-0.47946</td>\n",
       "      <td>-0.37398</td>\n",
       "      <td>-0.27008</td>\n",
       "      <td>-0.17225</td>\n",
       "      <td>-0.087463</td>\n",
       "      <td>-0.019191</td>\n",
       "      <td>...</td>\n",
       "      <td>-0.88318</td>\n",
       "      <td>-0.89189</td>\n",
       "      <td>-0.90290</td>\n",
       "      <td>-0.91427</td>\n",
       "      <td>-0.92668</td>\n",
       "      <td>-0.93966</td>\n",
       "      <td>-0.95244</td>\n",
       "      <td>-0.96623</td>\n",
       "      <td>-0.98050</td>\n",
       "      <td>-0.99178</td>\n",
       "    </tr>\n",
       "    <tr>\n",
       "      <th>2</th>\n",
       "      <td>13</td>\n",
       "      <td>-1.32560</td>\n",
       "      <td>-1.28430</td>\n",
       "      <td>-1.21970</td>\n",
       "      <td>-1.15670</td>\n",
       "      <td>-1.09980</td>\n",
       "      <td>-1.04960</td>\n",
       "      <td>-1.01550</td>\n",
       "      <td>-0.996720</td>\n",
       "      <td>-0.985040</td>\n",
       "      <td>...</td>\n",
       "      <td>-0.83499</td>\n",
       "      <td>-0.86204</td>\n",
       "      <td>-0.88559</td>\n",
       "      <td>-0.90454</td>\n",
       "      <td>-0.93353</td>\n",
       "      <td>-0.99135</td>\n",
       "      <td>-1.06910</td>\n",
       "      <td>-1.13680</td>\n",
       "      <td>-1.19800</td>\n",
       "      <td>-1.27000</td>\n",
       "    </tr>\n",
       "    <tr>\n",
       "      <th>3</th>\n",
       "      <td>23</td>\n",
       "      <td>-1.09370</td>\n",
       "      <td>-1.04200</td>\n",
       "      <td>-0.99840</td>\n",
       "      <td>-0.95997</td>\n",
       "      <td>-0.93997</td>\n",
       "      <td>-0.93764</td>\n",
       "      <td>-0.92649</td>\n",
       "      <td>-0.857090</td>\n",
       "      <td>-0.693320</td>\n",
       "      <td>...</td>\n",
       "      <td>-0.72810</td>\n",
       "      <td>-0.74512</td>\n",
       "      <td>-0.76376</td>\n",
       "      <td>-0.78068</td>\n",
       "      <td>-0.80593</td>\n",
       "      <td>-0.84350</td>\n",
       "      <td>-0.89531</td>\n",
       "      <td>-0.96052</td>\n",
       "      <td>-1.05090</td>\n",
       "      <td>-1.12830</td>\n",
       "    </tr>\n",
       "    <tr>\n",
       "      <th>4</th>\n",
       "      <td>4</td>\n",
       "      <td>-0.90138</td>\n",
       "      <td>-0.85228</td>\n",
       "      <td>-0.80196</td>\n",
       "      <td>-0.74932</td>\n",
       "      <td>-0.69298</td>\n",
       "      <td>-0.63316</td>\n",
       "      <td>-0.57038</td>\n",
       "      <td>-0.506920</td>\n",
       "      <td>-0.446040</td>\n",
       "      <td>...</td>\n",
       "      <td>-0.95452</td>\n",
       "      <td>-0.97322</td>\n",
       "      <td>-0.98984</td>\n",
       "      <td>-1.00520</td>\n",
       "      <td>-1.01880</td>\n",
       "      <td>-1.02960</td>\n",
       "      <td>-1.03700</td>\n",
       "      <td>-1.04110</td>\n",
       "      <td>-1.04180</td>\n",
       "      <td>-1.04030</td>\n",
       "    </tr>\n",
       "  </tbody>\n",
       "</table>\n",
       "<p>5 rows × 271 columns</p>\n",
       "</div>"
      ],
      "text/plain": [
       "   word        1        2        3        4        5        6        7  \\\n",
       "0     4 -0.89094 -0.86099 -0.82438 -0.78214 -0.73573 -0.68691 -0.63754   \n",
       "1    12 -0.78346 -0.68562 -0.58409 -0.47946 -0.37398 -0.27008 -0.17225   \n",
       "2    13 -1.32560 -1.28430 -1.21970 -1.15670 -1.09980 -1.04960 -1.01550   \n",
       "3    23 -1.09370 -1.04200 -0.99840 -0.95997 -0.93997 -0.93764 -0.92649   \n",
       "4     4 -0.90138 -0.85228 -0.80196 -0.74932 -0.69298 -0.63316 -0.57038   \n",
       "\n",
       "          8         9  ...      261      262      263      264      265  \\\n",
       "0 -0.589370 -0.543420  ... -0.86309 -0.86791 -0.87271 -0.87846 -0.88592   \n",
       "1 -0.087463 -0.019191  ... -0.88318 -0.89189 -0.90290 -0.91427 -0.92668   \n",
       "2 -0.996720 -0.985040  ... -0.83499 -0.86204 -0.88559 -0.90454 -0.93353   \n",
       "3 -0.857090 -0.693320  ... -0.72810 -0.74512 -0.76376 -0.78068 -0.80593   \n",
       "4 -0.506920 -0.446040  ... -0.95452 -0.97322 -0.98984 -1.00520 -1.01880   \n",
       "\n",
       "       266      267      268      269      270  \n",
       "0 -0.89619 -0.90783 -0.91942 -0.93018 -0.93939  \n",
       "1 -0.93966 -0.95244 -0.96623 -0.98050 -0.99178  \n",
       "2 -0.99135 -1.06910 -1.13680 -1.19800 -1.27000  \n",
       "3 -0.84350 -0.89531 -0.96052 -1.05090 -1.12830  \n",
       "4 -1.02960 -1.03700 -1.04110 -1.04180 -1.04030  \n",
       "\n",
       "[5 rows x 271 columns]"
      ]
     },
     "execution_count": 4,
     "metadata": {},
     "output_type": "execute_result"
    }
   ],
   "source": [
    "words.head()"
   ]
  },
  {
   "cell_type": "markdown",
   "metadata": {},
   "source": [
    "## View output"
   ]
  },
  {
   "cell_type": "code",
   "execution_count": 5,
   "metadata": {},
   "outputs": [
    {
     "data": {
      "text/plain": [
       "12"
      ]
     },
     "execution_count": 5,
     "metadata": {},
     "output_type": "execute_result"
    }
   ],
   "source": [
    "words.word[1]"
   ]
  },
  {
   "cell_type": "code",
   "execution_count": 6,
   "metadata": {},
   "outputs": [
    {
     "data": {
      "text/plain": [
       "Text(0.5,0.98,'Sample word projections and histograms of the projections')"
      ]
     },
     "execution_count": 6,
     "metadata": {},
     "output_type": "execute_result"
    },
    {
     "data": {
      "image/png": "[encoded data removed]",
      "text/plain": [
       "<Figure size 432x288 with 6 Axes>"
      ]
     },
     "metadata": {
      "needs_background": "light"
     },
     "output_type": "display_data"
    }
   ],
   "source": [
    "plt.subplot(3, 2, 1)\n",
    "plt.plot(words.iloc[1, 1:-1])\n",
    "plt.title(\"Sample Projection Word \" + str(words.word[1]), fontweight = 'bold', y = 0.8, fontsize = 14)\n",
    "plt.subplot(3, 2, 2)\n",
    "plt.hist(words.iloc[1, 1:-1], 10)\n",
    "plt.title(\"Histogram of Projection Word \" + str(words.word[1]), fontweight = 'bold', y = 0.8, fontsize = 14)\n",
    "plt.subplot(3, 2, 3)\n",
    "plt.plot(words.iloc[3, 1:-1])\n",
    "plt.title(\"Sample Projection Word \" + str(words.word[3]), fontweight = 'bold', y = 0.8, fontsize = 14)\n",
    "plt.subplot(3, 2, 4)\n",
    "plt.hist(words.iloc[3, 1:-1], 10)\n",
    "plt.title(\"Histogram of Projection Word \" + str(words.word[3]), fontweight = 'bold', y = 0.8, fontsize = 14)\n",
    "plt.subplot(3, 2, 5)\n",
    "plt.plot(words.iloc[5, 1:-1])\n",
    "plt.title(\"Sample Projection Word \" + str(words.word[11]), fontweight = 'bold', y = 0.8, fontsize = 14)\n",
    "plt.subplot(3, 2, 6)\n",
    "plt.hist(words.iloc[5, 1:-1], 10)\n",
    "plt.title(\"Histogram of Projection Word \" + str(words.word[11]), fontweight = 'bold', y = 0.8, fontsize = 14)\n",
    "plt.suptitle(\"Sample word projections and histograms of the projections\", fontsize = 18)"
   ]
  },
  {
   "cell_type": "code",
   "execution_count": 7,
   "metadata": {},
   "outputs": [
    {
     "data": {
      "text/plain": [
       "Text(0,0.5,'Value')"
      ]
     },
     "execution_count": 7,
     "metadata": {},
     "output_type": "execute_result"
    },
    {
     "data": {
      "image/png": "[encoded data removed]",
      "text/plain": [
       "<Figure size 432x288 with 1 Axes>"
      ]
     },
     "metadata": {
      "needs_background": "light"
     },
     "output_type": "display_data"
    }
   ],
   "source": [
    "\n",
    "## We can also consider the 2d histogram of a word\n",
    "x = np.array([])\n",
    "y = np.array([])\n",
    "\n",
    "w = 23\n",
    "selected_words = words[words.word == w]\n",
    "selected_words.shape\n",
    "\n",
    "for idx, row in selected_words.iterrows():\n",
    "    y = np.hstack([y, row[1:271]])\n",
    "    x = np.hstack([x, np.array(range(270))])\n",
    "    \n",
    "fig, ax = plt.subplots()\n",
    "hist = ax.hist2d(x, y, bins = 50)\n",
    "plt.xlabel(\"Time\", fontsize = 18)\n",
    "plt.ylabel(\"Value\", fontsize = 18)"
   ]
  },
  {
   "cell_type": "markdown",
   "metadata": {},
   "source": [
    "## Generate some features"
   ]
  },
  {
   "cell_type": "code",
   "execution_count": 8,
   "metadata": {},
   "outputs": [
    {
     "data": {
      "text/plain": [
       "(455, 271)"
      ]
     },
     "execution_count": 8,
     "metadata": {},
     "output_type": "execute_result"
    }
   ],
   "source": [
    "words.shape"
   ]
  },
  {
   "cell_type": "code",
   "execution_count": 9,
   "metadata": {},
   "outputs": [],
   "source": [
    "words_features = words.iloc[:, 1:271]"
   ]
  },
  {
   "cell_type": "markdown",
   "metadata": {},
   "source": [
    "### Create some features from original time series"
   ]
  },
  {
   "cell_type": "code",
   "execution_count": 10,
   "metadata": {},
   "outputs": [],
   "source": [
    "times  = []\n",
    "values = []\n",
    "for idx, row in words_features.iterrows():\n",
    "    values.append(row.values)\n",
    "    times.append(np.array([i for i in range(row.values.shape[0])]))"
   ]
  },
  {
   "cell_type": "code",
   "execution_count": 11,
   "metadata": {},
   "outputs": [
    {
     "data": {
      "text/plain": [
       "455"
      ]
     },
     "execution_count": 11,
     "metadata": {},
     "output_type": "execute_result"
    }
   ],
   "source": [
    "len(values)"
   ]
  },
  {
   "cell_type": "code",
   "execution_count": 12,
   "metadata": {},
   "outputs": [],
   "source": [
    "# from cesium import featurize\n",
    "# features_to_use = [\"amplitude\",\n",
    "#                    \"percent_beyond_1_std\",\n",
    "#                    \"percent_close_to_median\",\n",
    "#                    ]\n",
    "# featurized_words = featurize.featurize_time_series(times=times,\n",
    "#                                               values=values,\n",
    "#                                               errors=None,\n",
    "#                                               features_to_use=features_to_use,\n",
    "#                                               scheduler = None)"
   ]
  },
  {
   "cell_type": "code",
   "execution_count": 13,
   "metadata": {},
   "outputs": [],
   "source": [
    "featurized_words = pd.read_csv(\"data/featurized_words.csv\", header = [0, 1])\n",
    "featurized_words.columns = featurized_words.columns.droplevel(-1)"
   ]
  },
  {
   "cell_type": "code",
   "execution_count": 14,
   "metadata": {},
   "outputs": [
    {
     "data": {
      "text/html": [
       "<div>\n",
       "<style scoped>\n",
       "    .dataframe tbody tr th:only-of-type {\n",
       "        vertical-align: middle;\n",
       "    }\n",
       "\n",
       "    .dataframe tbody tr th {\n",
       "        vertical-align: top;\n",
       "    }\n",
       "\n",
       "    .dataframe thead th {\n",
       "        text-align: right;\n",
       "    }\n",
       "</style>\n",
       "<table border=\"1\" class=\"dataframe\">\n",
       "  <thead>\n",
       "    <tr style=\"text-align: right;\">\n",
       "      <th></th>\n",
       "      <th>feature</th>\n",
       "      <th>amplitude</th>\n",
       "      <th>percent_beyond_1_std</th>\n",
       "      <th>percent_close_to_median</th>\n",
       "    </tr>\n",
       "  </thead>\n",
       "  <tbody>\n",
       "    <tr>\n",
       "      <th>0</th>\n",
       "      <td>0</td>\n",
       "      <td>1.674555</td>\n",
       "      <td>0.188889</td>\n",
       "      <td>0.451852</td>\n",
       "    </tr>\n",
       "    <tr>\n",
       "      <th>1</th>\n",
       "      <td>1</td>\n",
       "      <td>1.990520</td>\n",
       "      <td>0.118519</td>\n",
       "      <td>0.259259</td>\n",
       "    </tr>\n",
       "    <tr>\n",
       "      <th>2</th>\n",
       "      <td>2</td>\n",
       "      <td>2.903650</td>\n",
       "      <td>0.114815</td>\n",
       "      <td>0.637037</td>\n",
       "    </tr>\n",
       "    <tr>\n",
       "      <th>3</th>\n",
       "      <td>3</td>\n",
       "      <td>2.515050</td>\n",
       "      <td>0.211111</td>\n",
       "      <td>0.562963</td>\n",
       "    </tr>\n",
       "    <tr>\n",
       "      <th>4</th>\n",
       "      <td>4</td>\n",
       "      <td>1.966150</td>\n",
       "      <td>0.181481</td>\n",
       "      <td>0.533333</td>\n",
       "    </tr>\n",
       "  </tbody>\n",
       "</table>\n",
       "</div>"
      ],
      "text/plain": [
       "   feature  amplitude  percent_beyond_1_std  percent_close_to_median\n",
       "0        0   1.674555              0.188889                 0.451852\n",
       "1        1   1.990520              0.118519                 0.259259\n",
       "2        2   2.903650              0.114815                 0.637037\n",
       "3        3   2.515050              0.211111                 0.562963\n",
       "4        4   1.966150              0.181481                 0.533333"
      ]
     },
     "execution_count": 14,
     "metadata": {},
     "output_type": "execute_result"
    }
   ],
   "source": [
    "featurized_words.head()"
   ]
  },
  {
   "cell_type": "code",
   "execution_count": 15,
   "metadata": {},
   "outputs": [
    {
     "data": {
      "text/plain": [
       "(455, 4)"
      ]
     },
     "execution_count": 15,
     "metadata": {},
     "output_type": "execute_result"
    }
   ],
   "source": [
    "featurized_words.shape"
   ]
  },
  {
   "cell_type": "code",
   "execution_count": null,
   "metadata": {},
   "outputs": [],
   "source": []
  },
  {
   "cell_type": "code",
   "execution_count": 16,
   "metadata": {},
   "outputs": [
    {
     "data": {
      "text/plain": [
       "(array([ 48., 146., 100.,  45.,  41.,  29.,  23.,  12.,   8.,   3.]),\n",
       " array([0.05925926, 0.10666667, 0.15407407, 0.20148148, 0.24888889,\n",
       "        0.2962963 , 0.3437037 , 0.39111111, 0.43851852, 0.48592593,\n",
       "        0.53333333]),\n",
       " <a list of 10 Patch objects>)"
      ]
     },
     "execution_count": 16,
     "metadata": {},
     "output_type": "execute_result"
    },
    {
     "data": {
      "image/png": "[encoded data removed]",
      "text/plain": [
       "<Figure size 432x288 with 1 Axes>"
      ]
     },
     "metadata": {
      "needs_background": "light"
     },
     "output_type": "display_data"
    }
   ],
   "source": [
    "plt.hist(featurized_words.percent_beyond_1_std)"
   ]
  },
  {
   "cell_type": "markdown",
   "metadata": {},
   "source": [
    "### Create some features from histogram"
   ]
  },
  {
   "cell_type": "code",
   "execution_count": 17,
   "metadata": {},
   "outputs": [],
   "source": [
    "# times = []\n",
    "# values = []\n",
    "# for idx, row in words_features.iterrows():\n",
    "#     values.append(np.histogram(row.values, bins=10, range=(-2.5, 5.0))[0] + .0001) ## cesium seems not to handle 0s\n",
    "#     times.append(np.array([i for i in range(9)]))"
   ]
  },
  {
   "cell_type": "code",
   "execution_count": 18,
   "metadata": {},
   "outputs": [],
   "source": [
    "# features_to_use = [\"amplitude\",\n",
    "#                    \"percent_close_to_median\",\n",
    "#                   \"skew\"\n",
    "#                   ]\n",
    "# featurized_hists = featurize.featurize_time_series(times=times,\n",
    "#                                               values=values,\n",
    "#                                               errors=None,\n",
    "#                                               features_to_use=features_to_use,\n",
    "#                                               scheduler = None)"
   ]
  },
  {
   "cell_type": "code",
   "execution_count": 19,
   "metadata": {},
   "outputs": [],
   "source": [
    "# featurized_hists.to_csv(\"data/featurized_hists.csv\")"
   ]
  },
  {
   "cell_type": "code",
   "execution_count": 20,
   "metadata": {},
   "outputs": [],
   "source": [
    "featurized_hists = pd.read_csv(\"data/featurized_hists.csv\", header = [0, 1])\n",
    "featurized_hists.columns = featurized_hists.columns.droplevel(-1)"
   ]
  },
  {
   "cell_type": "code",
   "execution_count": 21,
   "metadata": {},
   "outputs": [
    {
     "data": {
      "text/html": [
       "<div>\n",
       "<style scoped>\n",
       "    .dataframe tbody tr th:only-of-type {\n",
       "        vertical-align: middle;\n",
       "    }\n",
       "\n",
       "    .dataframe tbody tr th {\n",
       "        vertical-align: top;\n",
       "    }\n",
       "\n",
       "    .dataframe thead th {\n",
       "        text-align: right;\n",
       "    }\n",
       "</style>\n",
       "<table border=\"1\" class=\"dataframe\">\n",
       "  <thead>\n",
       "    <tr style=\"text-align: right;\">\n",
       "      <th></th>\n",
       "      <th>feature</th>\n",
       "      <th>amplitude</th>\n",
       "      <th>percent_close_to_median</th>\n",
       "      <th>skew</th>\n",
       "    </tr>\n",
       "  </thead>\n",
       "  <tbody>\n",
       "    <tr>\n",
       "      <th>0</th>\n",
       "      <td>0</td>\n",
       "      <td>88.0</td>\n",
       "      <td>0.444444</td>\n",
       "      <td>2.262655</td>\n",
       "    </tr>\n",
       "    <tr>\n",
       "      <th>1</th>\n",
       "      <td>1</td>\n",
       "      <td>61.0</td>\n",
       "      <td>0.666667</td>\n",
       "      <td>1.285343</td>\n",
       "    </tr>\n",
       "    <tr>\n",
       "      <th>2</th>\n",
       "      <td>2</td>\n",
       "      <td>70.0</td>\n",
       "      <td>0.666667</td>\n",
       "      <td>1.683031</td>\n",
       "    </tr>\n",
       "    <tr>\n",
       "      <th>3</th>\n",
       "      <td>3</td>\n",
       "      <td>67.0</td>\n",
       "      <td>0.555556</td>\n",
       "      <td>1.724109</td>\n",
       "    </tr>\n",
       "    <tr>\n",
       "      <th>4</th>\n",
       "      <td>4</td>\n",
       "      <td>75.0</td>\n",
       "      <td>0.777778</td>\n",
       "      <td>1.902513</td>\n",
       "    </tr>\n",
       "  </tbody>\n",
       "</table>\n",
       "</div>"
      ],
      "text/plain": [
       "   feature  amplitude  percent_close_to_median      skew\n",
       "0        0       88.0                 0.444444  2.262655\n",
       "1        1       61.0                 0.666667  1.285343\n",
       "2        2       70.0                 0.666667  1.683031\n",
       "3        3       67.0                 0.555556  1.724109\n",
       "4        4       75.0                 0.777778  1.902513"
      ]
     },
     "execution_count": 21,
     "metadata": {},
     "output_type": "execute_result"
    }
   ],
   "source": [
    "featurized_hists.head()"
   ]
  },
  {
   "cell_type": "code",
   "execution_count": 22,
   "metadata": {},
   "outputs": [],
   "source": [
    "features = pd.concat([featurized_words.reset_index(drop=True), featurized_hists], axis=1)"
   ]
  },
  {
   "cell_type": "code",
   "execution_count": 23,
   "metadata": {},
   "outputs": [
    {
     "data": {
      "text/html": [
       "<div>\n",
       "<style scoped>\n",
       "    .dataframe tbody tr th:only-of-type {\n",
       "        vertical-align: middle;\n",
       "    }\n",
       "\n",
       "    .dataframe tbody tr th {\n",
       "        vertical-align: top;\n",
       "    }\n",
       "\n",
       "    .dataframe thead th {\n",
       "        text-align: right;\n",
       "    }\n",
       "</style>\n",
       "<table border=\"1\" class=\"dataframe\">\n",
       "  <thead>\n",
       "    <tr style=\"text-align: right;\">\n",
       "      <th></th>\n",
       "      <th>feature</th>\n",
       "      <th>amplitude</th>\n",
       "      <th>percent_beyond_1_std</th>\n",
       "      <th>percent_close_to_median</th>\n",
       "      <th>feature</th>\n",
       "      <th>amplitude</th>\n",
       "      <th>percent_close_to_median</th>\n",
       "      <th>skew</th>\n",
       "    </tr>\n",
       "  </thead>\n",
       "  <tbody>\n",
       "    <tr>\n",
       "      <th>0</th>\n",
       "      <td>0</td>\n",
       "      <td>1.674555</td>\n",
       "      <td>0.188889</td>\n",
       "      <td>0.451852</td>\n",
       "      <td>0</td>\n",
       "      <td>88.0</td>\n",
       "      <td>0.444444</td>\n",
       "      <td>2.262655</td>\n",
       "    </tr>\n",
       "    <tr>\n",
       "      <th>1</th>\n",
       "      <td>1</td>\n",
       "      <td>1.990520</td>\n",
       "      <td>0.118519</td>\n",
       "      <td>0.259259</td>\n",
       "      <td>1</td>\n",
       "      <td>61.0</td>\n",
       "      <td>0.666667</td>\n",
       "      <td>1.285343</td>\n",
       "    </tr>\n",
       "    <tr>\n",
       "      <th>2</th>\n",
       "      <td>2</td>\n",
       "      <td>2.903650</td>\n",
       "      <td>0.114815</td>\n",
       "      <td>0.637037</td>\n",
       "      <td>2</td>\n",
       "      <td>70.0</td>\n",
       "      <td>0.666667</td>\n",
       "      <td>1.683031</td>\n",
       "    </tr>\n",
       "    <tr>\n",
       "      <th>3</th>\n",
       "      <td>3</td>\n",
       "      <td>2.515050</td>\n",
       "      <td>0.211111</td>\n",
       "      <td>0.562963</td>\n",
       "      <td>3</td>\n",
       "      <td>67.0</td>\n",
       "      <td>0.555556</td>\n",
       "      <td>1.724109</td>\n",
       "    </tr>\n",
       "    <tr>\n",
       "      <th>4</th>\n",
       "      <td>4</td>\n",
       "      <td>1.966150</td>\n",
       "      <td>0.181481</td>\n",
       "      <td>0.533333</td>\n",
       "      <td>4</td>\n",
       "      <td>75.0</td>\n",
       "      <td>0.777778</td>\n",
       "      <td>1.902513</td>\n",
       "    </tr>\n",
       "  </tbody>\n",
       "</table>\n",
       "</div>"
      ],
      "text/plain": [
       "   feature  amplitude  percent_beyond_1_std  percent_close_to_median  feature  \\\n",
       "0        0   1.674555              0.188889                 0.451852        0   \n",
       "1        1   1.990520              0.118519                 0.259259        1   \n",
       "2        2   2.903650              0.114815                 0.637037        2   \n",
       "3        3   2.515050              0.211111                 0.562963        3   \n",
       "4        4   1.966150              0.181481                 0.533333        4   \n",
       "\n",
       "   amplitude  percent_close_to_median      skew  \n",
       "0       88.0                 0.444444  2.262655  \n",
       "1       61.0                 0.666667  1.285343  \n",
       "2       70.0                 0.666667  1.683031  \n",
       "3       67.0                 0.555556  1.724109  \n",
       "4       75.0                 0.777778  1.902513  "
      ]
     },
     "execution_count": 23,
     "metadata": {},
     "output_type": "execute_result"
    }
   ],
   "source": [
    "features.head()"
   ]
  },
  {
   "cell_type": "code",
   "execution_count": 24,
   "metadata": {},
   "outputs": [
    {
     "data": {
      "text/plain": [
       "(455, 271)"
      ]
     },
     "execution_count": 24,
     "metadata": {},
     "output_type": "execute_result"
    }
   ],
   "source": [
    "words.shape"
   ]
  },
  {
   "cell_type": "code",
   "execution_count": 25,
   "metadata": {},
   "outputs": [],
   "source": [
    "## we also add some of our own features again, to account more for shape\n",
    "feats = np.zeros( (words.shape[0], 1), dtype = np.float32)\n",
    "for i in range(words.shape[0]):\n",
    "    vals = words.iloc[i, 1:271].values\n",
    "    feats[i, 0] = np.where(vals == np.max(vals))[0][0]"
   ]
  },
  {
   "cell_type": "code",
   "execution_count": 26,
   "metadata": {},
   "outputs": [
    {
     "data": {
      "text/plain": [
       "(455, 1)"
      ]
     },
     "execution_count": 26,
     "metadata": {},
     "output_type": "execute_result"
    }
   ],
   "source": [
    "feats.shape"
   ]
  },
  {
   "cell_type": "code",
   "execution_count": 27,
   "metadata": {},
   "outputs": [
    {
     "data": {
      "text/plain": [
       "(455, 8)"
      ]
     },
     "execution_count": 27,
     "metadata": {},
     "output_type": "execute_result"
    }
   ],
   "source": [
    "features.shape"
   ]
  },
  {
   "cell_type": "code",
   "execution_count": 28,
   "metadata": {},
   "outputs": [],
   "source": [
    "features['peak_location'] = feats"
   ]
  },
  {
   "cell_type": "code",
   "execution_count": 29,
   "metadata": {},
   "outputs": [
    {
     "data": {
      "text/html": [
       "<div>\n",
       "<style scoped>\n",
       "    .dataframe tbody tr th:only-of-type {\n",
       "        vertical-align: middle;\n",
       "    }\n",
       "\n",
       "    .dataframe tbody tr th {\n",
       "        vertical-align: top;\n",
       "    }\n",
       "\n",
       "    .dataframe thead th {\n",
       "        text-align: right;\n",
       "    }\n",
       "</style>\n",
       "<table border=\"1\" class=\"dataframe\">\n",
       "  <thead>\n",
       "    <tr style=\"text-align: right;\">\n",
       "      <th></th>\n",
       "      <th>feature</th>\n",
       "      <th>amplitude</th>\n",
       "      <th>percent_beyond_1_std</th>\n",
       "      <th>percent_close_to_median</th>\n",
       "      <th>feature</th>\n",
       "      <th>amplitude</th>\n",
       "      <th>percent_close_to_median</th>\n",
       "      <th>skew</th>\n",
       "      <th>peak_location</th>\n",
       "    </tr>\n",
       "  </thead>\n",
       "  <tbody>\n",
       "    <tr>\n",
       "      <th>0</th>\n",
       "      <td>0</td>\n",
       "      <td>1.674555</td>\n",
       "      <td>0.188889</td>\n",
       "      <td>0.451852</td>\n",
       "      <td>0</td>\n",
       "      <td>88.0</td>\n",
       "      <td>0.444444</td>\n",
       "      <td>2.262655</td>\n",
       "      <td>186.0</td>\n",
       "    </tr>\n",
       "    <tr>\n",
       "      <th>1</th>\n",
       "      <td>1</td>\n",
       "      <td>1.990520</td>\n",
       "      <td>0.118519</td>\n",
       "      <td>0.259259</td>\n",
       "      <td>1</td>\n",
       "      <td>61.0</td>\n",
       "      <td>0.666667</td>\n",
       "      <td>1.285343</td>\n",
       "      <td>93.0</td>\n",
       "    </tr>\n",
       "    <tr>\n",
       "      <th>2</th>\n",
       "      <td>2</td>\n",
       "      <td>2.903650</td>\n",
       "      <td>0.114815</td>\n",
       "      <td>0.637037</td>\n",
       "      <td>2</td>\n",
       "      <td>70.0</td>\n",
       "      <td>0.666667</td>\n",
       "      <td>1.683031</td>\n",
       "      <td>69.0</td>\n",
       "    </tr>\n",
       "    <tr>\n",
       "      <th>3</th>\n",
       "      <td>3</td>\n",
       "      <td>2.515050</td>\n",
       "      <td>0.211111</td>\n",
       "      <td>0.562963</td>\n",
       "      <td>3</td>\n",
       "      <td>67.0</td>\n",
       "      <td>0.555556</td>\n",
       "      <td>1.724109</td>\n",
       "      <td>235.0</td>\n",
       "    </tr>\n",
       "    <tr>\n",
       "      <th>4</th>\n",
       "      <td>4</td>\n",
       "      <td>1.966150</td>\n",
       "      <td>0.181481</td>\n",
       "      <td>0.533333</td>\n",
       "      <td>4</td>\n",
       "      <td>75.0</td>\n",
       "      <td>0.777778</td>\n",
       "      <td>1.902513</td>\n",
       "      <td>174.0</td>\n",
       "    </tr>\n",
       "  </tbody>\n",
       "</table>\n",
       "</div>"
      ],
      "text/plain": [
       "   feature  amplitude  percent_beyond_1_std  percent_close_to_median  feature  \\\n",
       "0        0   1.674555              0.188889                 0.451852        0   \n",
       "1        1   1.990520              0.118519                 0.259259        1   \n",
       "2        2   2.903650              0.114815                 0.637037        2   \n",
       "3        3   2.515050              0.211111                 0.562963        3   \n",
       "4        4   1.966150              0.181481                 0.533333        4   \n",
       "\n",
       "   amplitude  percent_close_to_median      skew  peak_location  \n",
       "0       88.0                 0.444444  2.262655          186.0  \n",
       "1       61.0                 0.666667  1.285343           93.0  \n",
       "2       70.0                 0.666667  1.683031           69.0  \n",
       "3       67.0                 0.555556  1.724109          235.0  \n",
       "4       75.0                 0.777778  1.902513          174.0  "
      ]
     },
     "execution_count": 29,
     "metadata": {},
     "output_type": "execute_result"
    }
   ],
   "source": [
    "features.head()"
   ]
  },
  {
   "cell_type": "code",
   "execution_count": 30,
   "metadata": {},
   "outputs": [],
   "source": [
    "feature_values = preprocessing.scale(features.iloc[:, [1, 2, 3, 5, 6, 7]])"
   ]
  },
  {
   "cell_type": "code",
   "execution_count": 31,
   "metadata": {},
   "outputs": [],
   "source": [
    "\n",
    "clustering = AgglomerativeClustering(n_clusters=50, linkage='ward')\n",
    "clustering.fit(feature_values)\n",
    "words['feature_label'] = clustering.labels_"
   ]
  },
  {
   "cell_type": "code",
   "execution_count": 32,
   "metadata": {},
   "outputs": [],
   "source": [
    "words['feature_label'] = words.feature_label.astype('category')"
   ]
  },
  {
   "cell_type": "code",
   "execution_count": 33,
   "metadata": {},
   "outputs": [
    {
     "name": "stderr",
     "output_type": "stream",
     "text": [
      "/Users/joepauly/Documents/Projects/Notes/sandbox/scipy_con_2019/modern_time_series_analysis/venv/lib/python3.7/site-packages/ipykernel_launcher.py:4: FutureWarning: using a dict on a Series for aggregation\n",
      "is deprecated and will be removed in a future version\n",
      "  after removing the cwd from sys.path.\n"
     ]
    },
    {
     "data": {
      "text/html": [
       "<div>\n",
       "<style scoped>\n",
       "    .dataframe tbody tr th:only-of-type {\n",
       "        vertical-align: middle;\n",
       "    }\n",
       "\n",
       "    .dataframe tbody tr th {\n",
       "        vertical-align: top;\n",
       "    }\n",
       "\n",
       "    .dataframe thead th {\n",
       "        text-align: right;\n",
       "    }\n",
       "</style>\n",
       "<table border=\"1\" class=\"dataframe\">\n",
       "  <thead>\n",
       "    <tr style=\"text-align: right;\">\n",
       "      <th></th>\n",
       "      <th>num_clustering_labels</th>\n",
       "      <th>num_word_samples</th>\n",
       "      <th>most_common_label</th>\n",
       "    </tr>\n",
       "    <tr>\n",
       "      <th>word</th>\n",
       "      <th></th>\n",
       "      <th></th>\n",
       "      <th></th>\n",
       "    </tr>\n",
       "  </thead>\n",
       "  <tbody>\n",
       "    <tr>\n",
       "      <th>1</th>\n",
       "      <td>19</td>\n",
       "      <td>57</td>\n",
       "      <td>38</td>\n",
       "    </tr>\n",
       "    <tr>\n",
       "      <th>2</th>\n",
       "      <td>19</td>\n",
       "      <td>42</td>\n",
       "      <td>29</td>\n",
       "    </tr>\n",
       "    <tr>\n",
       "      <th>3</th>\n",
       "      <td>16</td>\n",
       "      <td>28</td>\n",
       "      <td>37</td>\n",
       "    </tr>\n",
       "    <tr>\n",
       "      <th>4</th>\n",
       "      <td>17</td>\n",
       "      <td>34</td>\n",
       "      <td>17</td>\n",
       "    </tr>\n",
       "    <tr>\n",
       "      <th>5</th>\n",
       "      <td>13</td>\n",
       "      <td>25</td>\n",
       "      <td>8</td>\n",
       "    </tr>\n",
       "  </tbody>\n",
       "</table>\n",
       "</div>"
      ],
      "text/plain": [
       "      num_clustering_labels  num_word_samples  most_common_label\n",
       "word                                                            \n",
       "1                        19                57                 38\n",
       "2                        19                42                 29\n",
       "3                        16                28                 37\n",
       "4                        17                34                 17\n",
       "5                        13                25                  8"
      ]
     },
     "execution_count": 33,
     "metadata": {},
     "output_type": "execute_result"
    }
   ],
   "source": [
    "## the number of feature labels \n",
    "results = words.groupby('word')['feature_label'].agg({'num_clustering_labels': lambda x: len(set(x)),\n",
    "                                            'num_word_samples':      lambda x: len(x),\n",
    "                                            'most_common_label':     lambda x: Counter(x).most_common(1)[0][0]})\n",
    "results.head()"
   ]
  },
  {
   "cell_type": "code",
   "execution_count": 34,
   "metadata": {},
   "outputs": [
    {
     "name": "stderr",
     "output_type": "stream",
     "text": [
      "/Users/joepauly/Documents/Projects/Notes/sandbox/scipy_con_2019/modern_time_series_analysis/venv/lib/python3.7/site-packages/ipykernel_launcher.py:4: FutureWarning: using a dict on a Series for aggregation\n",
      "is deprecated and will be removed in a future version\n",
      "  after removing the cwd from sys.path.\n"
     ]
    },
    {
     "data": {
      "text/html": [
       "<div>\n",
       "<style scoped>\n",
       "    .dataframe tbody tr th:only-of-type {\n",
       "        vertical-align: middle;\n",
       "    }\n",
       "\n",
       "    .dataframe tbody tr th {\n",
       "        vertical-align: top;\n",
       "    }\n",
       "\n",
       "    .dataframe thead th {\n",
       "        text-align: right;\n",
       "    }\n",
       "</style>\n",
       "<table border=\"1\" class=\"dataframe\">\n",
       "  <thead>\n",
       "    <tr style=\"text-align: right;\">\n",
       "      <th></th>\n",
       "      <th>num_words</th>\n",
       "      <th>num_feat_samples</th>\n",
       "      <th>most_common_word</th>\n",
       "    </tr>\n",
       "    <tr>\n",
       "      <th>feature_label</th>\n",
       "      <th></th>\n",
       "      <th></th>\n",
       "      <th></th>\n",
       "    </tr>\n",
       "  </thead>\n",
       "  <tbody>\n",
       "    <tr>\n",
       "      <th>0</th>\n",
       "      <td>9</td>\n",
       "      <td>16</td>\n",
       "      <td>2</td>\n",
       "    </tr>\n",
       "    <tr>\n",
       "      <th>1</th>\n",
       "      <td>5</td>\n",
       "      <td>5</td>\n",
       "      <td>13</td>\n",
       "    </tr>\n",
       "    <tr>\n",
       "      <th>2</th>\n",
       "      <td>7</td>\n",
       "      <td>8</td>\n",
       "      <td>16</td>\n",
       "    </tr>\n",
       "    <tr>\n",
       "      <th>3</th>\n",
       "      <td>8</td>\n",
       "      <td>9</td>\n",
       "      <td>1</td>\n",
       "    </tr>\n",
       "    <tr>\n",
       "      <th>4</th>\n",
       "      <td>10</td>\n",
       "      <td>20</td>\n",
       "      <td>1</td>\n",
       "    </tr>\n",
       "    <tr>\n",
       "      <th>5</th>\n",
       "      <td>4</td>\n",
       "      <td>8</td>\n",
       "      <td>2</td>\n",
       "    </tr>\n",
       "    <tr>\n",
       "      <th>6</th>\n",
       "      <td>5</td>\n",
       "      <td>6</td>\n",
       "      <td>15</td>\n",
       "    </tr>\n",
       "    <tr>\n",
       "      <th>7</th>\n",
       "      <td>6</td>\n",
       "      <td>6</td>\n",
       "      <td>7</td>\n",
       "    </tr>\n",
       "    <tr>\n",
       "      <th>8</th>\n",
       "      <td>6</td>\n",
       "      <td>17</td>\n",
       "      <td>5</td>\n",
       "    </tr>\n",
       "    <tr>\n",
       "      <th>9</th>\n",
       "      <td>10</td>\n",
       "      <td>21</td>\n",
       "      <td>1</td>\n",
       "    </tr>\n",
       "    <tr>\n",
       "      <th>10</th>\n",
       "      <td>10</td>\n",
       "      <td>13</td>\n",
       "      <td>3</td>\n",
       "    </tr>\n",
       "    <tr>\n",
       "      <th>11</th>\n",
       "      <td>7</td>\n",
       "      <td>13</td>\n",
       "      <td>6</td>\n",
       "    </tr>\n",
       "    <tr>\n",
       "      <th>12</th>\n",
       "      <td>6</td>\n",
       "      <td>9</td>\n",
       "      <td>1</td>\n",
       "    </tr>\n",
       "    <tr>\n",
       "      <th>13</th>\n",
       "      <td>7</td>\n",
       "      <td>9</td>\n",
       "      <td>2</td>\n",
       "    </tr>\n",
       "    <tr>\n",
       "      <th>14</th>\n",
       "      <td>3</td>\n",
       "      <td>5</td>\n",
       "      <td>4</td>\n",
       "    </tr>\n",
       "    <tr>\n",
       "      <th>15</th>\n",
       "      <td>11</td>\n",
       "      <td>13</td>\n",
       "      <td>6</td>\n",
       "    </tr>\n",
       "    <tr>\n",
       "      <th>16</th>\n",
       "      <td>7</td>\n",
       "      <td>14</td>\n",
       "      <td>12</td>\n",
       "    </tr>\n",
       "    <tr>\n",
       "      <th>17</th>\n",
       "      <td>8</td>\n",
       "      <td>18</td>\n",
       "      <td>4</td>\n",
       "    </tr>\n",
       "    <tr>\n",
       "      <th>18</th>\n",
       "      <td>6</td>\n",
       "      <td>8</td>\n",
       "      <td>39</td>\n",
       "    </tr>\n",
       "    <tr>\n",
       "      <th>19</th>\n",
       "      <td>5</td>\n",
       "      <td>6</td>\n",
       "      <td>15</td>\n",
       "    </tr>\n",
       "    <tr>\n",
       "      <th>20</th>\n",
       "      <td>6</td>\n",
       "      <td>9</td>\n",
       "      <td>7</td>\n",
       "    </tr>\n",
       "    <tr>\n",
       "      <th>21</th>\n",
       "      <td>7</td>\n",
       "      <td>11</td>\n",
       "      <td>1</td>\n",
       "    </tr>\n",
       "    <tr>\n",
       "      <th>22</th>\n",
       "      <td>7</td>\n",
       "      <td>10</td>\n",
       "      <td>20</td>\n",
       "    </tr>\n",
       "    <tr>\n",
       "      <th>23</th>\n",
       "      <td>5</td>\n",
       "      <td>9</td>\n",
       "      <td>12</td>\n",
       "    </tr>\n",
       "    <tr>\n",
       "      <th>24</th>\n",
       "      <td>5</td>\n",
       "      <td>8</td>\n",
       "      <td>13</td>\n",
       "    </tr>\n",
       "    <tr>\n",
       "      <th>25</th>\n",
       "      <td>1</td>\n",
       "      <td>2</td>\n",
       "      <td>4</td>\n",
       "    </tr>\n",
       "    <tr>\n",
       "      <th>26</th>\n",
       "      <td>8</td>\n",
       "      <td>21</td>\n",
       "      <td>1</td>\n",
       "    </tr>\n",
       "    <tr>\n",
       "      <th>27</th>\n",
       "      <td>6</td>\n",
       "      <td>6</td>\n",
       "      <td>9</td>\n",
       "    </tr>\n",
       "    <tr>\n",
       "      <th>28</th>\n",
       "      <td>6</td>\n",
       "      <td>6</td>\n",
       "      <td>8</td>\n",
       "    </tr>\n",
       "    <tr>\n",
       "      <th>29</th>\n",
       "      <td>4</td>\n",
       "      <td>9</td>\n",
       "      <td>2</td>\n",
       "    </tr>\n",
       "    <tr>\n",
       "      <th>30</th>\n",
       "      <td>4</td>\n",
       "      <td>8</td>\n",
       "      <td>2</td>\n",
       "    </tr>\n",
       "    <tr>\n",
       "      <th>31</th>\n",
       "      <td>7</td>\n",
       "      <td>8</td>\n",
       "      <td>19</td>\n",
       "    </tr>\n",
       "    <tr>\n",
       "      <th>32</th>\n",
       "      <td>3</td>\n",
       "      <td>4</td>\n",
       "      <td>26</td>\n",
       "    </tr>\n",
       "    <tr>\n",
       "      <th>33</th>\n",
       "      <td>7</td>\n",
       "      <td>7</td>\n",
       "      <td>7</td>\n",
       "    </tr>\n",
       "    <tr>\n",
       "      <th>34</th>\n",
       "      <td>4</td>\n",
       "      <td>4</td>\n",
       "      <td>3</td>\n",
       "    </tr>\n",
       "    <tr>\n",
       "      <th>35</th>\n",
       "      <td>4</td>\n",
       "      <td>6</td>\n",
       "      <td>15</td>\n",
       "    </tr>\n",
       "    <tr>\n",
       "      <th>36</th>\n",
       "      <td>6</td>\n",
       "      <td>10</td>\n",
       "      <td>3</td>\n",
       "    </tr>\n",
       "    <tr>\n",
       "      <th>37</th>\n",
       "      <td>7</td>\n",
       "      <td>12</td>\n",
       "      <td>3</td>\n",
       "    </tr>\n",
       "    <tr>\n",
       "      <th>38</th>\n",
       "      <td>8</td>\n",
       "      <td>19</td>\n",
       "      <td>1</td>\n",
       "    </tr>\n",
       "    <tr>\n",
       "      <th>39</th>\n",
       "      <td>6</td>\n",
       "      <td>6</td>\n",
       "      <td>22</td>\n",
       "    </tr>\n",
       "    <tr>\n",
       "      <th>40</th>\n",
       "      <td>1</td>\n",
       "      <td>2</td>\n",
       "      <td>20</td>\n",
       "    </tr>\n",
       "    <tr>\n",
       "      <th>41</th>\n",
       "      <td>2</td>\n",
       "      <td>2</td>\n",
       "      <td>23</td>\n",
       "    </tr>\n",
       "    <tr>\n",
       "      <th>42</th>\n",
       "      <td>2</td>\n",
       "      <td>3</td>\n",
       "      <td>2</td>\n",
       "    </tr>\n",
       "    <tr>\n",
       "      <th>43</th>\n",
       "      <td>4</td>\n",
       "      <td>8</td>\n",
       "      <td>1</td>\n",
       "    </tr>\n",
       "    <tr>\n",
       "      <th>44</th>\n",
       "      <td>4</td>\n",
       "      <td>5</td>\n",
       "      <td>33</td>\n",
       "    </tr>\n",
       "    <tr>\n",
       "      <th>45</th>\n",
       "      <td>4</td>\n",
       "      <td>4</td>\n",
       "      <td>3</td>\n",
       "    </tr>\n",
       "    <tr>\n",
       "      <th>46</th>\n",
       "      <td>7</td>\n",
       "      <td>10</td>\n",
       "      <td>11</td>\n",
       "    </tr>\n",
       "    <tr>\n",
       "      <th>47</th>\n",
       "      <td>6</td>\n",
       "      <td>13</td>\n",
       "      <td>14</td>\n",
       "    </tr>\n",
       "    <tr>\n",
       "      <th>48</th>\n",
       "      <td>3</td>\n",
       "      <td>6</td>\n",
       "      <td>2</td>\n",
       "    </tr>\n",
       "    <tr>\n",
       "      <th>49</th>\n",
       "      <td>3</td>\n",
       "      <td>3</td>\n",
       "      <td>9</td>\n",
       "    </tr>\n",
       "  </tbody>\n",
       "</table>\n",
       "</div>"
      ],
      "text/plain": [
       "               num_words  num_feat_samples  most_common_word\n",
       "feature_label                                               \n",
       "0                      9                16                 2\n",
       "1                      5                 5                13\n",
       "2                      7                 8                16\n",
       "3                      8                 9                 1\n",
       "4                     10                20                 1\n",
       "5                      4                 8                 2\n",
       "6                      5                 6                15\n",
       "7                      6                 6                 7\n",
       "8                      6                17                 5\n",
       "9                     10                21                 1\n",
       "10                    10                13                 3\n",
       "11                     7                13                 6\n",
       "12                     6                 9                 1\n",
       "13                     7                 9                 2\n",
       "14                     3                 5                 4\n",
       "15                    11                13                 6\n",
       "16                     7                14                12\n",
       "17                     8                18                 4\n",
       "18                     6                 8                39\n",
       "19                     5                 6                15\n",
       "20                     6                 9                 7\n",
       "21                     7                11                 1\n",
       "22                     7                10                20\n",
       "23                     5                 9                12\n",
       "24                     5                 8                13\n",
       "25                     1                 2                 4\n",
       "26                     8                21                 1\n",
       "27                     6                 6                 9\n",
       "28                     6                 6                 8\n",
       "29                     4                 9                 2\n",
       "30                     4                 8                 2\n",
       "31                     7                 8                19\n",
       "32                     3                 4                26\n",
       "33                     7                 7                 7\n",
       "34                     4                 4                 3\n",
       "35                     4                 6                15\n",
       "36                     6                10                 3\n",
       "37                     7                12                 3\n",
       "38                     8                19                 1\n",
       "39                     6                 6                22\n",
       "40                     1                 2                20\n",
       "41                     2                 2                23\n",
       "42                     2                 3                 2\n",
       "43                     4                 8                 1\n",
       "44                     4                 5                33\n",
       "45                     4                 4                 3\n",
       "46                     7                10                11\n",
       "47                     6                13                14\n",
       "48                     3                 6                 2\n",
       "49                     3                 3                 9"
      ]
     },
     "execution_count": 34,
     "metadata": {},
     "output_type": "execute_result"
    }
   ],
   "source": [
    "## the number of feature labels \n",
    "results_feats = words.groupby('feature_label')['word'].agg({'num_words': lambda x: len(set(x)),\n",
    "                                            'num_feat_samples':      lambda x: len(x),\n",
    "                                            'most_common_word':     lambda x: Counter(x).most_common(1)[0][0]})\n",
    "results_feats\n",
    "## note that word 1 = most common in cluster 38"
   ]
  },
  {
   "cell_type": "code",
   "execution_count": 35,
   "metadata": {},
   "outputs": [
    {
     "data": {
      "text/plain": [
       "0.5085776345414814"
      ]
     },
     "execution_count": 35,
     "metadata": {},
     "output_type": "execute_result"
    }
   ],
   "source": [
    "homogeneity_score(words.word, words.feature_label)\n",
    "## see definitions in user manual: https://scikit-learn.org/stable/modules/clustering.html#homogeneity-completeness"
   ]
  },
  {
   "cell_type": "markdown",
   "metadata": {},
   "source": [
    "## Dynamic Time Warping Distance Definition"
   ]
  },
  {
   "cell_type": "code",
   "execution_count": 36,
   "metadata": {},
   "outputs": [
    {
     "data": {
      "text/plain": [
       "[<matplotlib.lines.Line2D at 0x7fa91b8ce490>]"
      ]
     },
     "execution_count": 36,
     "metadata": {},
     "output_type": "execute_result"
    },
    {
     "data": {
      "image/png": "[encoded data removed]",
      "text/plain": [
       "<Figure size 432x288 with 1 Axes>"
      ]
     },
     "metadata": {
      "needs_background": "light"
     },
     "output_type": "display_data"
    }
   ],
   "source": [
    "ts1 = np.sin(np.linspace(1, 10))\n",
    "ts2 = np.sin(2 * np.linspace(1, 10))\n",
    "ts3 = np.zeros((50,)) \n",
    "plt.plot(ts1)\n",
    "plt.plot(ts2)\n",
    "plt.plot(ts3)"
   ]
  },
  {
   "cell_type": "markdown",
   "metadata": {},
   "source": [
    "## Exercise: calculate the Euclidean distance between respective pairs of time series from the 3 time series above"
   ]
  },
  {
   "cell_type": "code",
   "execution_count": 37,
   "metadata": {},
   "outputs": [
    {
     "data": {
      "text/plain": [
       "7.3897194681883756"
      ]
     },
     "execution_count": 37,
     "metadata": {},
     "output_type": "execute_result"
    }
   ],
   "source": [
    "np.sqrt(np.sum(np.square(ts1 - ts2)))"
   ]
  },
  {
   "cell_type": "code",
   "execution_count": 38,
   "metadata": {},
   "outputs": [
    {
     "data": {
      "text/plain": [
       "4.999710697636168"
      ]
     },
     "execution_count": 38,
     "metadata": {},
     "output_type": "execute_result"
    }
   ],
   "source": [
    "np.sqrt(np.sum(np.square(ts1 - ts3)))"
   ]
  },
  {
   "cell_type": "code",
   "execution_count": 39,
   "metadata": {},
   "outputs": [
    {
     "data": {
      "text/plain": [
       "4.935018175874873"
      ]
     },
     "execution_count": 39,
     "metadata": {},
     "output_type": "execute_result"
    }
   ],
   "source": [
    "np.sqrt(np.sum(np.square(ts2 - ts3)))"
   ]
  },
  {
   "cell_type": "code",
   "execution_count": 40,
   "metadata": {},
   "outputs": [
    {
     "data": {
      "text/plain": [
       "(50,)"
      ]
     },
     "execution_count": 40,
     "metadata": {},
     "output_type": "execute_result"
    }
   ],
   "source": [
    "np.linspace(1,10).shape"
   ]
  },
  {
   "cell_type": "markdown",
   "metadata": {},
   "source": [
    "## Another time series clustering technique that has been recommended is a correlation measure. How does this fair in the case of our sine curves and straigh line?"
   ]
  },
  {
   "cell_type": "code",
   "execution_count": 76,
   "metadata": {},
   "outputs": [],
   "source": [
    "np.random.seed(215202)\n",
    "ts3_noise = np.random.random(ts3.shape)\n",
    "ts3 = np.zeros((50,)) \n",
    "ts3 = ts3 + ts3_noise"
   ]
  },
  {
   "cell_type": "code",
   "execution_count": 77,
   "metadata": {},
   "outputs": [
    {
     "data": {
      "text/plain": [
       "(-0.10087714894729656, 0.485772279067737)"
      ]
     },
     "execution_count": 77,
     "metadata": {},
     "output_type": "execute_result"
    }
   ],
   "source": [
    "pearsonr(ts1, ts2)"
   ]
  },
  {
   "cell_type": "code",
   "execution_count": 78,
   "metadata": {},
   "outputs": [
    {
     "data": {
      "text/plain": [
       "(0.19217749375608117, 0.18121250150076443)"
      ]
     },
     "execution_count": 78,
     "metadata": {},
     "output_type": "execute_result"
    }
   ],
   "source": [
    "pearsonr(ts1, ts3)"
   ]
  },
  {
   "cell_type": "code",
   "execution_count": 79,
   "metadata": {},
   "outputs": [
    {
     "data": {
      "text/plain": [
       "(0.1866633643227201, 0.1942984942405358)"
      ]
     },
     "execution_count": 79,
     "metadata": {},
     "output_type": "execute_result"
    }
   ],
   "source": [
    "pearsonr(ts2, ts3 + np.random.random(ts3.shape))"
   ]
  },
  {
   "cell_type": "markdown",
   "metadata": {},
   "source": [
    "## Exercise: use what we discussed about dynamic programming to code a DTW function"
   ]
  },
  {
   "cell_type": "code",
   "execution_count": 36,
   "metadata": {},
   "outputs": [],
   "source": [
    "X = words.iloc[:, 1:271].values"
   ]
  },
  {
   "cell_type": "code",
   "execution_count": 17,
   "metadata": {},
   "outputs": [],
   "source": [
    "def distDTW(ts1, ts2):\n",
    "    DTW       = np.full((len(ts1) + 1, len(ts2) + 1), 0, dtype = np.float32)\n",
    "    DTW[:, 0] = np.inf\n",
    "    DTW[0, :] = np.inf\n",
    "    DTW[0, 0] = 0\n",
    "\n",
    "    for i in range(1, len(ts1) + 1):\n",
    "        for j in range(1, len(ts2) + 1):\n",
    "            idx1 = i - 1 \n",
    "            idx2 = j - 1\n",
    "            \n",
    "            dist               = (ts1[idx1] - ts2[idx2])**2\n",
    "            min_preceding_dist = min(DTW[i-1, j],DTW[i, j-1], DTW[i-1, j-1])\n",
    "\n",
    "            DTW[i, j] = dist + min_preceding_dist\n",
    "\n",
    "    return sqrt(DTW[len(ts1), len(ts2)])"
   ]
  },
  {
   "cell_type": "markdown",
   "metadata": {},
   "source": [
    "## Exercise: does this fix the problem above noted with the sine curves vs. a straight line?"
   ]
  },
  {
   "cell_type": "code",
   "execution_count": 18,
   "metadata": {},
   "outputs": [
    {
     "data": {
      "text/plain": [
       "3.7609101849567645"
      ]
     },
     "execution_count": 18,
     "metadata": {},
     "output_type": "execute_result"
    }
   ],
   "source": [
    "distDTW(ts1, ts2)"
   ]
  },
  {
   "cell_type": "code",
   "execution_count": 19,
   "metadata": {},
   "outputs": [
    {
     "data": {
      "text/plain": [
       "4.999710456093972"
      ]
     },
     "execution_count": 19,
     "metadata": {},
     "output_type": "execute_result"
    }
   ],
   "source": [
    "distDTW(ts1, ts3)"
   ]
  },
  {
   "cell_type": "code",
   "execution_count": 20,
   "metadata": {},
   "outputs": [
    {
     "data": {
      "text/plain": [
       "4.935018374516099"
      ]
     },
     "execution_count": 20,
     "metadata": {},
     "output_type": "execute_result"
    }
   ],
   "source": [
    "distDTW(ts2, ts3)"
   ]
  },
  {
   "cell_type": "code",
   "execution_count": 39,
   "metadata": {},
   "outputs": [
    {
     "data": {
      "text/plain": [
       "7.777960024318239"
      ]
     },
     "execution_count": 39,
     "metadata": {},
     "output_type": "execute_result"
    }
   ],
   "source": [
    "distDTW(X[0], X[1])"
   ]
  },
  {
   "cell_type": "code",
   "execution_count": 40,
   "metadata": {},
   "outputs": [
    {
     "data": {
      "text/plain": [
       "7.777960164340302"
      ]
     },
     "execution_count": 40,
     "metadata": {},
     "output_type": "execute_result"
    }
   ],
   "source": [
    "dtw.distance(X[0], X[1])\n",
    "## worth checking out: https://github.com/wannesm/dtaidistance"
   ]
  },
  {
   "cell_type": "code",
   "execution_count": 41,
   "metadata": {},
   "outputs": [],
   "source": [
    "# p = pairwise_distances(X, metric = distDTW)"
   ]
  },
  {
   "cell_type": "code",
   "execution_count": 42,
   "metadata": {},
   "outputs": [],
   "source": [
    "# with open(\"pairwise_word_distances.npy\", \"wb\") as f:\n",
    "#     np.save(f, p)"
   ]
  },
  {
   "cell_type": "code",
   "execution_count": 43,
   "metadata": {},
   "outputs": [],
   "source": [
    "p = np.load(\"data/pairwise_word_distances.npy\")"
   ]
  },
  {
   "cell_type": "markdown",
   "metadata": {},
   "source": [
    "## Exercise: Try clustering based on dynamic time warping distances"
   ]
  },
  {
   "cell_type": "code",
   "execution_count": 44,
   "metadata": {},
   "outputs": [],
   "source": [
    "## We will use hierarchical clustering as a distance agnostic methodology"
   ]
  },
  {
   "cell_type": "code",
   "execution_count": 45,
   "metadata": {},
   "outputs": [],
   "source": [
    "clustering = AgglomerativeClustering(linkage='average', n_clusters=50, affinity = 'precomputed') \n",
    "## 'average' linkage is good for non Euclidean distance metrics"
   ]
  },
  {
   "cell_type": "code",
   "execution_count": 46,
   "metadata": {},
   "outputs": [],
   "source": [
    "labels = clustering.fit_predict(p)"
   ]
  },
  {
   "cell_type": "code",
   "execution_count": 47,
   "metadata": {},
   "outputs": [
    {
     "data": {
      "text/plain": [
       "455"
      ]
     },
     "execution_count": 47,
     "metadata": {},
     "output_type": "execute_result"
    }
   ],
   "source": [
    "len(words.word)"
   ]
  },
  {
   "cell_type": "code",
   "execution_count": 48,
   "metadata": {},
   "outputs": [
    {
     "data": {
      "text/plain": [
       "455"
      ]
     },
     "execution_count": 48,
     "metadata": {},
     "output_type": "execute_result"
    }
   ],
   "source": [
    "len(labels)"
   ]
  },
  {
   "cell_type": "markdown",
   "metadata": {},
   "source": [
    "## Exercise: How did the clustering perform?"
   ]
  },
  {
   "cell_type": "code",
   "execution_count": 49,
   "metadata": {},
   "outputs": [
    {
     "name": "stdout",
     "output_type": "stream",
     "text": [
      "0.8286055510058652\n",
      "0.923840473866547\n"
     ]
    }
   ],
   "source": [
    "\n",
    "print(homogeneity_score(words.word, labels))\n",
    "print(completeness_score(words.word, labels))"
   ]
  },
  {
   "cell_type": "code",
   "execution_count": 50,
   "metadata": {},
   "outputs": [],
   "source": [
    "# quoting: https://scikit-learn.org/stable/modules/clustering.html#homogeneity-completeness\n",
    "# homogeneity: each cluster contains only members of a single class.\n",
    "# completeness: all members of a given class are assigned to the same cluster."
   ]
  },
  {
   "cell_type": "code",
   "execution_count": 51,
   "metadata": {},
   "outputs": [],
   "source": [
    "res = contingency_matrix(labels, words.word)"
   ]
  },
  {
   "cell_type": "code",
   "execution_count": 52,
   "metadata": {},
   "outputs": [
    {
     "data": {
      "text/plain": [
       "<matplotlib.image.AxesImage at 0x7f8e0d38d828>"
      ]
     },
     "execution_count": 52,
     "metadata": {},
     "output_type": "execute_result"
    },
    {
     "data": {
      "image/png": "[encoded data removed]",
      "text/plain": [
       "<Figure size 432x288 with 1 Axes>"
      ]
     },
     "metadata": {
      "needs_background": "light"
     },
     "output_type": "display_data"
    }
   ],
   "source": [
    "## note difficulties in assessing this given imbalanced dataset\n",
    "plt.imshow(res)"
   ]
  }
 ],
 "metadata": {
  "kernelspec": {
   "display_name": "Python 3",
   "language": "python",
   "name": "python3"
  },
  "language_info": {
   "codemirror_mode": {
    "name": "ipython",
    "version": 3
   },
   "file_extension": ".py",
   "mimetype": "text/x-python",
   "name": "python",
   "nbconvert_exporter": "python",
   "pygments_lexer": "ipython3",
   "version": "3.7.6"
  }
 },
 "nbformat": 4,
 "nbformat_minor": 4
}
